{
 "cells": [
  {
   "cell_type": "code",
   "execution_count": 1,
   "metadata": {},
   "outputs": [
    {
     "data": {
      "text/html": [
       "<div>\n",
       "<style>\n",
       "    .dataframe thead tr:only-child th {\n",
       "        text-align: right;\n",
       "    }\n",
       "\n",
       "    .dataframe thead th {\n",
       "        text-align: left;\n",
       "    }\n",
       "\n",
       "    .dataframe tbody tr th {\n",
       "        vertical-align: top;\n",
       "    }\n",
       "</style>\n",
       "<table border=\"1\" class=\"dataframe\">\n",
       "  <thead>\n",
       "    <tr style=\"text-align: right;\">\n",
       "      <th></th>\n",
       "      <th>RowNumber</th>\n",
       "      <th>CustomerId</th>\n",
       "      <th>Surname</th>\n",
       "      <th>CreditScore</th>\n",
       "      <th>Geography</th>\n",
       "      <th>Gender</th>\n",
       "      <th>Age</th>\n",
       "      <th>Tenure</th>\n",
       "      <th>Balance</th>\n",
       "      <th>NumOfProducts</th>\n",
       "      <th>HasCrCard</th>\n",
       "      <th>IsActiveMember</th>\n",
       "      <th>EstimatedSalary</th>\n",
       "      <th>Exited</th>\n",
       "    </tr>\n",
       "  </thead>\n",
       "  <tbody>\n",
       "    <tr>\n",
       "      <th>0</th>\n",
       "      <td>1</td>\n",
       "      <td>15634602</td>\n",
       "      <td>Hargrave</td>\n",
       "      <td>619</td>\n",
       "      <td>France</td>\n",
       "      <td>Female</td>\n",
       "      <td>42</td>\n",
       "      <td>2</td>\n",
       "      <td>0.00</td>\n",
       "      <td>1</td>\n",
       "      <td>1</td>\n",
       "      <td>1</td>\n",
       "      <td>101348.88</td>\n",
       "      <td>1</td>\n",
       "    </tr>\n",
       "    <tr>\n",
       "      <th>1</th>\n",
       "      <td>2</td>\n",
       "      <td>15647311</td>\n",
       "      <td>Hill</td>\n",
       "      <td>608</td>\n",
       "      <td>Spain</td>\n",
       "      <td>Female</td>\n",
       "      <td>41</td>\n",
       "      <td>1</td>\n",
       "      <td>83807.86</td>\n",
       "      <td>1</td>\n",
       "      <td>0</td>\n",
       "      <td>1</td>\n",
       "      <td>112542.58</td>\n",
       "      <td>0</td>\n",
       "    </tr>\n",
       "    <tr>\n",
       "      <th>2</th>\n",
       "      <td>3</td>\n",
       "      <td>15619304</td>\n",
       "      <td>Onio</td>\n",
       "      <td>502</td>\n",
       "      <td>France</td>\n",
       "      <td>Female</td>\n",
       "      <td>42</td>\n",
       "      <td>8</td>\n",
       "      <td>159660.80</td>\n",
       "      <td>3</td>\n",
       "      <td>1</td>\n",
       "      <td>0</td>\n",
       "      <td>113931.57</td>\n",
       "      <td>1</td>\n",
       "    </tr>\n",
       "    <tr>\n",
       "      <th>3</th>\n",
       "      <td>4</td>\n",
       "      <td>15701354</td>\n",
       "      <td>Boni</td>\n",
       "      <td>699</td>\n",
       "      <td>France</td>\n",
       "      <td>Female</td>\n",
       "      <td>39</td>\n",
       "      <td>1</td>\n",
       "      <td>0.00</td>\n",
       "      <td>2</td>\n",
       "      <td>0</td>\n",
       "      <td>0</td>\n",
       "      <td>93826.63</td>\n",
       "      <td>0</td>\n",
       "    </tr>\n",
       "    <tr>\n",
       "      <th>4</th>\n",
       "      <td>5</td>\n",
       "      <td>15737888</td>\n",
       "      <td>Mitchell</td>\n",
       "      <td>850</td>\n",
       "      <td>Spain</td>\n",
       "      <td>Female</td>\n",
       "      <td>43</td>\n",
       "      <td>2</td>\n",
       "      <td>125510.82</td>\n",
       "      <td>1</td>\n",
       "      <td>1</td>\n",
       "      <td>1</td>\n",
       "      <td>79084.10</td>\n",
       "      <td>0</td>\n",
       "    </tr>\n",
       "  </tbody>\n",
       "</table>\n",
       "</div>"
      ],
      "text/plain": [
       "   RowNumber  CustomerId   Surname  CreditScore Geography  Gender  Age  \\\n",
       "0          1    15634602  Hargrave          619    France  Female   42   \n",
       "1          2    15647311      Hill          608     Spain  Female   41   \n",
       "2          3    15619304      Onio          502    France  Female   42   \n",
       "3          4    15701354      Boni          699    France  Female   39   \n",
       "4          5    15737888  Mitchell          850     Spain  Female   43   \n",
       "\n",
       "   Tenure    Balance  NumOfProducts  HasCrCard  IsActiveMember  \\\n",
       "0       2       0.00              1          1               1   \n",
       "1       1   83807.86              1          0               1   \n",
       "2       8  159660.80              3          1               0   \n",
       "3       1       0.00              2          0               0   \n",
       "4       2  125510.82              1          1               1   \n",
       "\n",
       "   EstimatedSalary  Exited  \n",
       "0        101348.88       1  \n",
       "1        112542.58       0  \n",
       "2        113931.57       1  \n",
       "3         93826.63       0  \n",
       "4         79084.10       0  "
      ]
     },
     "execution_count": 1,
     "metadata": {},
     "output_type": "execute_result"
    }
   ],
   "source": [
    "# data preprocessing\n",
    "\n",
    "import numpy as np\n",
    "import pandas as pd\n",
    "import matplotlib.pyplot as plt\n",
    "\n",
    "dataset = pd.read_csv('.\\data\\Churn_Modelling.csv')\n",
    "dataset.head()"
   ]
  },
  {
   "cell_type": "code",
   "execution_count": 2,
   "metadata": {},
   "outputs": [
    {
     "name": "stdout",
     "output_type": "stream",
     "text": [
      "[0 2 0 ..., 0 1 0]\n",
      "************\n",
      "['France' 'Germany' 'Spain']\n"
     ]
    }
   ],
   "source": [
    "X = dataset.iloc[:,3 :13].values # from \"CreditScore\" to \"EstimatedSalary\"\n",
    "y = dataset.iloc[:, 13].values  # \"Exited\"\n",
    "\n",
    "# encoding categorical data\n",
    "from sklearn.preprocessing import LabelEncoder, OneHotEncoder\n",
    "labelencoder_X_1 = LabelEncoder()\n",
    "X[:, 1] = labelencoder_X_1.fit_transform(X[:, 1])\n",
    "print(X[:,1])\n",
    "print('************')\n",
    "print(labelencoder_X_1.classes_)"
   ]
  },
  {
   "cell_type": "code",
   "execution_count": 3,
   "metadata": {},
   "outputs": [
    {
     "name": "stdout",
     "output_type": "stream",
     "text": [
      "['Female' 'Male']\n"
     ]
    }
   ],
   "source": [
    "labelencoder_X_2 = LabelEncoder()\n",
    "X[:, 2] = labelencoder_X_2.fit_transform(X[:, 2])\n",
    "print(labelencoder_X_2.classes_)"
   ]
  },
  {
   "cell_type": "code",
   "execution_count": 4,
   "metadata": {},
   "outputs": [
    {
     "data": {
      "text/plain": [
       "(10000, 12)"
      ]
     },
     "execution_count": 4,
     "metadata": {},
     "output_type": "execute_result"
    }
   ],
   "source": [
    "X_labelencoded = X\n",
    "\n",
    "onehotencoder = OneHotEncoder(categorical_features = [1]) # the column is \"Geography\"\n",
    "X_prepared = onehotencoder.fit_transform(X_labelencoded).toarray()\n",
    "X_prepared.shape"
   ]
  },
  {
   "cell_type": "code",
   "execution_count": 5,
   "metadata": {},
   "outputs": [
    {
     "data": {
      "text/plain": [
       "array([608, 2, 0, 41, 1, 83807.86, 1, 0, 1, 112542.58], dtype=object)"
      ]
     },
     "execution_count": 5,
     "metadata": {},
     "output_type": "execute_result"
    }
   ],
   "source": [
    "X[1, :]"
   ]
  },
  {
   "cell_type": "code",
   "execution_count": 6,
   "metadata": {},
   "outputs": [
    {
     "data": {
      "text/plain": [
       "array([  0.00000000e+00,   0.00000000e+00,   1.00000000e+00,\n",
       "         6.08000000e+02,   0.00000000e+00,   4.10000000e+01,\n",
       "         1.00000000e+00,   8.38078600e+04,   1.00000000e+00,\n",
       "         0.00000000e+00,   1.00000000e+00,   1.12542580e+05])"
      ]
     },
     "execution_count": 6,
     "metadata": {},
     "output_type": "execute_result"
    }
   ],
   "source": [
    "X_prepared[1, :]"
   ]
  },
  {
   "cell_type": "code",
   "execution_count": 7,
   "metadata": {
    "collapsed": true
   },
   "outputs": [],
   "source": [
    "# the first three columns of X_prepared corresponding to OneHotEncoder of \"Geograph\", 001, 010, 100\n",
    "# we only need the last two columns of these three bits, to denote three categories\n",
    "X = X_prepared[:, 1:]"
   ]
  },
  {
   "cell_type": "code",
   "execution_count": 8,
   "metadata": {},
   "outputs": [
    {
     "data": {
      "text/plain": [
       "array([[-0.57946723, -0.57638802,  0.35649971, ...,  0.64920267,\n",
       "         0.97481699,  1.36766974],\n",
       "       [ 1.72572313, -0.57638802, -0.20389777, ...,  0.64920267,\n",
       "         0.97481699,  1.6612541 ],\n",
       "       [-0.57946723,  1.73494238, -0.96147213, ...,  0.64920267,\n",
       "        -1.02583358, -0.25280688],\n",
       "       ..., \n",
       "       [-0.57946723, -0.57638802,  0.86500853, ..., -1.54035103,\n",
       "        -1.02583358, -0.1427649 ],\n",
       "       [-0.57946723, -0.57638802,  0.15932282, ...,  0.64920267,\n",
       "        -1.02583358, -0.05082558],\n",
       "       [ 1.72572313, -0.57638802,  0.47065475, ...,  0.64920267,\n",
       "         0.97481699, -0.81456811]])"
      ]
     },
     "execution_count": 8,
     "metadata": {},
     "output_type": "execute_result"
    }
   ],
   "source": [
    "# splitting the dataset into the Training set and Test set\n",
    "from sklearn.model_selection import train_test_split\n",
    "X_train, X_test, y_train, y_test = train_test_split(X, y, test_size = 0.2, random_state = 42)\n",
    "# Feature Scaling\n",
    "from sklearn.preprocessing import StandardScaler\n",
    "sc = StandardScaler()\n",
    "X_train = sc.fit_transform(X_train) # scaling happen independently on each feature\n",
    "X_test = sc.transform(X_test)\n",
    "X_train"
   ]
  },
  {
   "cell_type": "code",
   "execution_count": 12,
   "metadata": {},
   "outputs": [],
   "source": [
    "# Using Keras to build ANN model\n",
    "from tensorflow.contrib.keras.api.keras.models import Sequential\n",
    "from tensorflow.contrib.keras.api.keras.layers import Dense\n",
    "from tensorflow.contrib.keras import backend"
   ]
  },
  {
   "cell_type": "code",
   "execution_count": 16,
   "metadata": {},
   "outputs": [
    {
     "name": "stdout",
     "output_type": "stream",
     "text": [
      "Train on 7200 samples, validate on 800 samples\n",
      "Epoch 1/100\n",
      "7200/7200 [==============================] - 2s - loss: 1.4260 - acc: 0.6399 - val_loss: 0.5150 - val_acc: 0.8037\n",
      "Epoch 2/100\n",
      "7200/7200 [==============================] - 1s - loss: 0.5129 - acc: 0.7931 - val_loss: 0.4772 - val_acc: 0.8037\n",
      "Epoch 3/100\n",
      "7200/7200 [==============================] - 1s - loss: 0.4857 - acc: 0.7950 - val_loss: 0.4443 - val_acc: 0.8087\n",
      "Epoch 4/100\n",
      "7200/7200 [==============================] - 1s - loss: 0.4681 - acc: 0.8021 - val_loss: 0.4261 - val_acc: 0.8300\n",
      "Epoch 5/100\n",
      "7200/7200 [==============================] - 1s - loss: 0.4598 - acc: 0.8058 - val_loss: 0.4160 - val_acc: 0.8312\n",
      "Epoch 6/100\n",
      "7200/7200 [==============================] - 1s - loss: 0.4537 - acc: 0.8089 - val_loss: 0.4097 - val_acc: 0.8337\n",
      "Epoch 7/100\n",
      "7200/7200 [==============================] - 1s - loss: 0.4480 - acc: 0.8112 - val_loss: 0.4046 - val_acc: 0.8312\n",
      "Epoch 8/100\n",
      "7200/7200 [==============================] - 1s - loss: 0.4444 - acc: 0.8114 - val_loss: 0.4004 - val_acc: 0.8362\n",
      "Epoch 9/100\n",
      "7200/7200 [==============================] - 1s - loss: 0.4393 - acc: 0.8162 - val_loss: 0.3990 - val_acc: 0.8312\n",
      "Epoch 10/100\n",
      "7200/7200 [==============================] - 1s - loss: 0.4328 - acc: 0.8171 - val_loss: 0.3919 - val_acc: 0.8387\n",
      "Epoch 11/100\n",
      "7200/7200 [==============================] - 1s - loss: 0.4241 - acc: 0.8244 - val_loss: 0.3804 - val_acc: 0.8412\n",
      "Epoch 12/100\n",
      "7200/7200 [==============================] - 1s - loss: 0.4094 - acc: 0.8322 - val_loss: 0.3628 - val_acc: 0.8500\n",
      "Epoch 13/100\n",
      "7200/7200 [==============================] - 1s - loss: 0.3903 - acc: 0.8443 - val_loss: 0.3500 - val_acc: 0.8550\n",
      "Epoch 14/100\n",
      "7200/7200 [==============================] - 1s - loss: 0.3778 - acc: 0.8501 - val_loss: 0.3417 - val_acc: 0.8600\n",
      "Epoch 15/100\n",
      "7200/7200 [==============================] - 1s - loss: 0.3684 - acc: 0.8521 - val_loss: 0.3382 - val_acc: 0.8587\n",
      "Epoch 16/100\n",
      "7200/7200 [==============================] - 1s - loss: 0.3629 - acc: 0.8540 - val_loss: 0.3357 - val_acc: 0.8650\n",
      "Epoch 17/100\n",
      "7200/7200 [==============================] - 1s - loss: 0.3591 - acc: 0.8554 - val_loss: 0.3351 - val_acc: 0.8587\n",
      "Epoch 18/100\n",
      "7200/7200 [==============================] - 1s - loss: 0.3549 - acc: 0.8564 - val_loss: 0.3368 - val_acc: 0.8625\n",
      "Epoch 19/100\n",
      "7200/7200 [==============================] - 1s - loss: 0.3529 - acc: 0.8562 - val_loss: 0.3350 - val_acc: 0.8600\n",
      "Epoch 20/100\n",
      "7200/7200 [==============================] - 1s - loss: 0.3512 - acc: 0.8560 - val_loss: 0.3352 - val_acc: 0.8575\n",
      "Epoch 21/100\n",
      "7200/7200 [==============================] - 1s - loss: 0.3489 - acc: 0.8567 - val_loss: 0.3336 - val_acc: 0.8537\n",
      "Epoch 22/100\n",
      "7200/7200 [==============================] - 1s - loss: 0.3476 - acc: 0.8568 - val_loss: 0.3350 - val_acc: 0.8600\n",
      "Epoch 23/100\n",
      "7200/7200 [==============================] - 1s - loss: 0.3466 - acc: 0.8581 - val_loss: 0.3349 - val_acc: 0.8600\n",
      "Epoch 24/100\n",
      "7200/7200 [==============================] - 1s - loss: 0.3458 - acc: 0.8565 - val_loss: 0.3349 - val_acc: 0.8600\n",
      "Epoch 25/100\n",
      "7200/7200 [==============================] - 1s - loss: 0.3441 - acc: 0.8572 - val_loss: 0.3335 - val_acc: 0.8600\n",
      "Epoch 26/100\n",
      "7200/7200 [==============================] - 1s - loss: 0.3434 - acc: 0.8583 - val_loss: 0.3345 - val_acc: 0.8612\n",
      "Epoch 27/100\n",
      "7200/7200 [==============================] - 1s - loss: 0.3432 - acc: 0.8567 - val_loss: 0.3329 - val_acc: 0.8600\n",
      "Epoch 28/100\n",
      "7200/7200 [==============================] - 1s - loss: 0.3423 - acc: 0.8597 - val_loss: 0.3343 - val_acc: 0.8612\n",
      "Epoch 29/100\n",
      "7200/7200 [==============================] - 1s - loss: 0.3420 - acc: 0.8618 - val_loss: 0.3330 - val_acc: 0.8600\n",
      "Epoch 30/100\n",
      "7200/7200 [==============================] - 1s - loss: 0.3406 - acc: 0.8617 - val_loss: 0.3346 - val_acc: 0.8612\n",
      "Epoch 31/100\n",
      "7200/7200 [==============================] - 1s - loss: 0.3410 - acc: 0.8585 - val_loss: 0.3337 - val_acc: 0.8625\n",
      "Epoch 32/100\n",
      "7200/7200 [==============================] - 1s - loss: 0.3392 - acc: 0.8587 - val_loss: 0.3329 - val_acc: 0.8612\n",
      "Epoch 33/100\n",
      "7200/7200 [==============================] - 1s - loss: 0.3395 - acc: 0.8593 - val_loss: 0.3334 - val_acc: 0.8612\n",
      "Epoch 34/100\n",
      "7200/7200 [==============================] - 1s - loss: 0.3392 - acc: 0.8601 - val_loss: 0.3333 - val_acc: 0.8575\n",
      "Epoch 35/100\n",
      "7200/7200 [==============================] - 1s - loss: 0.3387 - acc: 0.8604 - val_loss: 0.3334 - val_acc: 0.8600\n",
      "Epoch 36/100\n",
      "7200/7200 [==============================] - 1s - loss: 0.3389 - acc: 0.8612 - val_loss: 0.3349 - val_acc: 0.8600\n",
      "Epoch 37/100\n",
      "7200/7200 [==============================] - 1s - loss: 0.3380 - acc: 0.8608 - val_loss: 0.3336 - val_acc: 0.8587\n",
      "Epoch 38/100\n",
      "7200/7200 [==============================] - 1s - loss: 0.3377 - acc: 0.8607 - val_loss: 0.3344 - val_acc: 0.8587\n",
      "Epoch 39/100\n",
      "7200/7200 [==============================] - 1s - loss: 0.3370 - acc: 0.8612 - val_loss: 0.3337 - val_acc: 0.8562\n",
      "Epoch 40/100\n",
      "7200/7200 [==============================] - 1s - loss: 0.3367 - acc: 0.8624 - val_loss: 0.3335 - val_acc: 0.8612\n",
      "Epoch 41/100\n",
      "7200/7200 [==============================] - 1s - loss: 0.3367 - acc: 0.8622 - val_loss: 0.3371 - val_acc: 0.8575\n",
      "Epoch 42/100\n",
      "7200/7200 [==============================] - 1s - loss: 0.3364 - acc: 0.8612 - val_loss: 0.3331 - val_acc: 0.8575\n",
      "Epoch 43/100\n",
      "7200/7200 [==============================] - 1s - loss: 0.3371 - acc: 0.8597 - val_loss: 0.3335 - val_acc: 0.8587\n",
      "Epoch 44/100\n",
      "7200/7200 [==============================] - 1s - loss: 0.3362 - acc: 0.8615 - val_loss: 0.3325 - val_acc: 0.8537\n",
      "Epoch 45/100\n",
      "7200/7200 [==============================] - 1s - loss: 0.3360 - acc: 0.8632 - val_loss: 0.3330 - val_acc: 0.8587\n",
      "Epoch 46/100\n",
      "7200/7200 [==============================] - 1s - loss: 0.3362 - acc: 0.8610 - val_loss: 0.3319 - val_acc: 0.8550\n",
      "Epoch 47/100\n",
      "7200/7200 [==============================] - 1s - loss: 0.3356 - acc: 0.8603 - val_loss: 0.3329 - val_acc: 0.8525\n",
      "Epoch 48/100\n",
      "7200/7200 [==============================] - 1s - loss: 0.3353 - acc: 0.8624 - val_loss: 0.3326 - val_acc: 0.8550\n",
      "Epoch 49/100\n",
      "7200/7200 [==============================] - 1s - loss: 0.3349 - acc: 0.8621 - val_loss: 0.3320 - val_acc: 0.8537\n",
      "Epoch 50/100\n",
      "7200/7200 [==============================] - 1s - loss: 0.3349 - acc: 0.8626 - val_loss: 0.3414 - val_acc: 0.8550\n",
      "Epoch 51/100\n",
      "7200/7200 [==============================] - 1s - loss: 0.3353 - acc: 0.8594 - val_loss: 0.3392 - val_acc: 0.8600\n",
      "Epoch 52/100\n",
      "7200/7200 [==============================] - 1s - loss: 0.3348 - acc: 0.8581 - val_loss: 0.3334 - val_acc: 0.8575\n",
      "Epoch 53/100\n",
      "7200/7200 [==============================] - 1s - loss: 0.3351 - acc: 0.8601 - val_loss: 0.3315 - val_acc: 0.8537\n",
      "Epoch 54/100\n",
      "7200/7200 [==============================] - 1s - loss: 0.3349 - acc: 0.8606 - val_loss: 0.3320 - val_acc: 0.8537\n",
      "Epoch 55/100\n",
      "7200/7200 [==============================] - 1s - loss: 0.3344 - acc: 0.8615 - val_loss: 0.3322 - val_acc: 0.8525\n",
      "Epoch 56/100\n",
      "7200/7200 [==============================] - 1s - loss: 0.3346 - acc: 0.8615 - val_loss: 0.3330 - val_acc: 0.8575\n",
      "Epoch 57/100\n",
      "7200/7200 [==============================] - 1s - loss: 0.3340 - acc: 0.8624 - val_loss: 0.3335 - val_acc: 0.8537\n",
      "Epoch 58/100\n",
      "7200/7200 [==============================] - 1s - loss: 0.3340 - acc: 0.8621 - val_loss: 0.3329 - val_acc: 0.8525\n",
      "Epoch 59/100\n",
      "7200/7200 [==============================] - 1s - loss: 0.3338 - acc: 0.8612 - val_loss: 0.3373 - val_acc: 0.8562\n",
      "Epoch 60/100\n",
      "7200/7200 [==============================] - 1s - loss: 0.3344 - acc: 0.8622 - val_loss: 0.3328 - val_acc: 0.8512\n",
      "Epoch 61/100\n",
      "7200/7200 [==============================] - 1s - loss: 0.3340 - acc: 0.8607 - val_loss: 0.3322 - val_acc: 0.8575\n",
      "Epoch 62/100\n",
      "7200/7200 [==============================] - 1s - loss: 0.3344 - acc: 0.8614 - val_loss: 0.3322 - val_acc: 0.8575\n",
      "Epoch 63/100\n",
      "7200/7200 [==============================] - 1s - loss: 0.3341 - acc: 0.8610 - val_loss: 0.3324 - val_acc: 0.8562\n",
      "Epoch 64/100\n",
      "7200/7200 [==============================] - 1s - loss: 0.3336 - acc: 0.8644 - val_loss: 0.3321 - val_acc: 0.8550\n",
      "Epoch 65/100\n"
     ]
    },
    {
     "name": "stdout",
     "output_type": "stream",
     "text": [
      "7200/7200 [==============================] - 1s - loss: 0.3338 - acc: 0.8612 - val_loss: 0.3351 - val_acc: 0.8625\n",
      "Epoch 66/100\n",
      "7200/7200 [==============================] - 1s - loss: 0.3340 - acc: 0.8624 - val_loss: 0.3337 - val_acc: 0.8600\n",
      "Epoch 67/100\n",
      "7200/7200 [==============================] - 1s - loss: 0.3335 - acc: 0.8617 - val_loss: 0.3319 - val_acc: 0.8512\n",
      "Epoch 68/100\n",
      "7200/7200 [==============================] - 1s - loss: 0.3338 - acc: 0.8610 - val_loss: 0.3320 - val_acc: 0.8512\n",
      "Epoch 69/100\n",
      "7200/7200 [==============================] - 1s - loss: 0.3336 - acc: 0.8618 - val_loss: 0.3353 - val_acc: 0.8562\n",
      "Epoch 70/100\n",
      "7200/7200 [==============================] - 1s - loss: 0.3336 - acc: 0.8633 - val_loss: 0.3363 - val_acc: 0.8587\n",
      "Epoch 71/100\n",
      "7200/7200 [==============================] - 1s - loss: 0.3335 - acc: 0.8614 - val_loss: 0.3355 - val_acc: 0.8562\n",
      "Epoch 72/100\n",
      "7200/7200 [==============================] - 1s - loss: 0.3338 - acc: 0.8610 - val_loss: 0.3353 - val_acc: 0.8550\n",
      "Epoch 73/100\n",
      "7200/7200 [==============================] - 1s - loss: 0.3338 - acc: 0.8610 - val_loss: 0.3325 - val_acc: 0.8587\n",
      "Epoch 74/100\n",
      "7200/7200 [==============================] - 1s - loss: 0.3333 - acc: 0.8610 - val_loss: 0.3324 - val_acc: 0.8512\n",
      "Epoch 75/100\n",
      "7200/7200 [==============================] - 1s - loss: 0.3336 - acc: 0.8624 - val_loss: 0.3311 - val_acc: 0.8550\n",
      "Epoch 76/100\n",
      "7200/7200 [==============================] - 1s - loss: 0.3333 - acc: 0.8618 - val_loss: 0.3320 - val_acc: 0.8525\n",
      "Epoch 77/100\n",
      "7200/7200 [==============================] - 1s - loss: 0.3332 - acc: 0.8639 - val_loss: 0.3332 - val_acc: 0.8575\n",
      "Epoch 78/100\n",
      "7200/7200 [==============================] - 1s - loss: 0.3331 - acc: 0.8629 - val_loss: 0.3324 - val_acc: 0.8575\n",
      "Epoch 79/100\n",
      "7200/7200 [==============================] - 1s - loss: 0.3337 - acc: 0.8612 - val_loss: 0.3326 - val_acc: 0.8562\n",
      "Epoch 80/100\n",
      "7200/7200 [==============================] - 1s - loss: 0.3341 - acc: 0.8618 - val_loss: 0.3312 - val_acc: 0.8550\n",
      "Epoch 81/100\n",
      "7200/7200 [==============================] - 1s - loss: 0.3337 - acc: 0.8619 - val_loss: 0.3317 - val_acc: 0.8512\n",
      "Epoch 82/100\n",
      "7200/7200 [==============================] - 1s - loss: 0.3330 - acc: 0.8646 - val_loss: 0.3332 - val_acc: 0.8525\n",
      "Epoch 83/100\n",
      "7200/7200 [==============================] - 1s - loss: 0.3334 - acc: 0.8611 - val_loss: 0.3316 - val_acc: 0.8562\n",
      "Epoch 84/100\n",
      "7200/7200 [==============================] - 1s - loss: 0.3332 - acc: 0.8621 - val_loss: 0.3315 - val_acc: 0.8500\n",
      "Epoch 85/100\n",
      "7200/7200 [==============================] - 1s - loss: 0.3330 - acc: 0.8610 - val_loss: 0.3317 - val_acc: 0.8550\n",
      "Epoch 86/100\n",
      "7200/7200 [==============================] - 1s - loss: 0.3331 - acc: 0.8615 - val_loss: 0.3318 - val_acc: 0.8550\n",
      "Epoch 87/100\n",
      "7200/7200 [==============================] - 1s - loss: 0.3330 - acc: 0.8618 - val_loss: 0.3311 - val_acc: 0.8525\n",
      "Epoch 88/100\n",
      "7200/7200 [==============================] - 1s - loss: 0.3334 - acc: 0.8618 - val_loss: 0.3321 - val_acc: 0.8562\n",
      "Epoch 89/100\n",
      "7200/7200 [==============================] - 1s - loss: 0.3331 - acc: 0.8635 - val_loss: 0.3315 - val_acc: 0.8562\n",
      "Epoch 90/100\n",
      "7200/7200 [==============================] - 1s - loss: 0.3334 - acc: 0.8628 - val_loss: 0.3305 - val_acc: 0.8525\n",
      "Epoch 91/100\n",
      "7200/7200 [==============================] - 1s - loss: 0.3330 - acc: 0.8622 - val_loss: 0.3328 - val_acc: 0.8562\n",
      "Epoch 92/100\n",
      "7200/7200 [==============================] - 1s - loss: 0.3338 - acc: 0.8608 - val_loss: 0.3338 - val_acc: 0.8600\n",
      "Epoch 93/100\n",
      "7200/7200 [==============================] - 1s - loss: 0.3329 - acc: 0.8633 - val_loss: 0.3302 - val_acc: 0.8575\n",
      "Epoch 94/100\n",
      "7200/7200 [==============================] - 1s - loss: 0.3333 - acc: 0.8633 - val_loss: 0.3320 - val_acc: 0.8537\n",
      "Epoch 95/100\n",
      "7200/7200 [==============================] - 1s - loss: 0.3330 - acc: 0.8624 - val_loss: 0.3354 - val_acc: 0.8587\n",
      "Epoch 96/100\n",
      "7200/7200 [==============================] - 1s - loss: 0.3333 - acc: 0.8606 - val_loss: 0.3323 - val_acc: 0.8562\n",
      "Epoch 97/100\n",
      "7200/7200 [==============================] - 1s - loss: 0.3332 - acc: 0.8619 - val_loss: 0.3327 - val_acc: 0.8562\n",
      "Epoch 98/100\n",
      "7200/7200 [==============================] - 1s - loss: 0.3327 - acc: 0.8612 - val_loss: 0.3304 - val_acc: 0.8550\n",
      "Epoch 99/100\n",
      "7200/7200 [==============================] - 1s - loss: 0.3328 - acc: 0.8617 - val_loss: 0.3320 - val_acc: 0.8562\n",
      "Epoch 100/100\n",
      "7200/7200 [==============================] - 1s - loss: 0.3329 - acc: 0.8615 - val_loss: 0.3319 - val_acc: 0.8550\n"
     ]
    },
    {
     "data": {
      "text/plain": [
       "<tensorflow.contrib.keras.python.keras.callbacks.History at 0x198586f4940>"
      ]
     },
     "execution_count": 16,
     "metadata": {},
     "output_type": "execute_result"
    }
   ],
   "source": [
    "Classifier = Sequential()\n",
    "# add the input layer and the first hidden layer\n",
    "Classifier.add(Dense(units = 6, kernel_initializer = 'uniform', activation = 'relu', input_dim = 11))\n",
    "# add the seconder hidden layer\n",
    "Classifier.add(Dense(units = 6, kernel_initializer = 'uniform', activation = 'relu'))\n",
    "# add the output layer\n",
    "Classifier.add(Dense(units = 1, kernel_initializer = 'uniform', activation = 'sigmoid'))\n",
    "# compiling the ANN\n",
    "Classifier.compile(optimizer = 'adam', loss = 'binary_crossentropy', metrics = ['accuracy'])\n",
    "# fitting the ANN to training set\n",
    "# validation_split: fraction of the training data to be used as validation set\n",
    "Classifier.fit(X_train, y_train, batch_size = 10, epochs = 100, validation_split = 0.1) \n"
   ]
  },
  {
   "cell_type": "code",
   "execution_count": 17,
   "metadata": {},
   "outputs": [
    {
     "name": "stdout",
     "output_type": "stream",
     "text": [
      "[[1524   83]\n",
      " [ 200  193]]\n"
     ]
    }
   ],
   "source": [
    "# predicting the test set results\n",
    "y_pred = Classifier.predict(X_test)\n",
    "y_pred = (y_pred > 0.5) # two classes\n",
    "# making the confusing matrix\n",
    "from sklearn.metrics import confusion_matrix\n",
    "cm = confusion_matrix(y_test, y_pred)\n",
    "print(cm)\n",
    "# backend.clear_sessiong"
   ]
  },
  {
   "cell_type": "code",
   "execution_count": null,
   "metadata": {
    "collapsed": true
   },
   "outputs": [],
   "source": []
  }
 ],
 "metadata": {
  "kernelspec": {
   "display_name": "Python 3",
   "language": "python",
   "name": "python3"
  },
  "language_info": {
   "codemirror_mode": {
    "name": "ipython",
    "version": 3
   },
   "file_extension": ".py",
   "mimetype": "text/x-python",
   "name": "python",
   "nbconvert_exporter": "python",
   "pygments_lexer": "ipython3",
   "version": "3.6.3"
  }
 },
 "nbformat": 4,
 "nbformat_minor": 2
}
